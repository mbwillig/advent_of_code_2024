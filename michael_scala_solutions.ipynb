{
 "cells": [
  {
   "cell_type": "markdown",
   "metadata": {
    "application/vnd.databricks.v1+cell": {
     "cellMetadata": {},
     "inputWidgets": {},
     "nuid": "7884dcee-f1b2-4cd2-915b-32c1b763796f",
     "showTitle": false,
     "tableResultSettingsMap": {},
     "title": ""
    }
   },
   "source": [
    "## day 1"
   ]
  },
  {
   "cell_type": "code",
   "execution_count": 0,
   "metadata": {
    "application/vnd.databricks.v1+cell": {
     "cellMetadata": {
      "byteLimit": 2048000,
      "rowLimit": 10000
     },
     "inputWidgets": {},
     "nuid": "75615a03-ec39-4b75-8342-8728410fdea8",
     "showTitle": false,
     "tableResultSettingsMap": {},
     "title": ""
    }
   },
   "outputs": [
    {
     "output_type": "display_data",
     "data": {
      "text/html": [
       "<style scoped>\n",
       "  .ansiout {\n",
       "    display: block;\n",
       "    unicode-bidi: embed;\n",
       "    white-space: pre-wrap;\n",
       "    word-wrap: break-word;\n",
       "    word-break: break-all;\n",
       "    font-family: \"Menlo\", \"Monaco\", \"Consolas\", \"Ubuntu Mono\", \"Source Code Pro\", monospace;\n",
       "    font-size: 13px;\n",
       "    color: #555;\n",
       "    margin-left: 4px;\n",
       "    line-height: 19px;\n",
       "  }\n",
       "</style>\n",
       "<div class=\"ansiout\">2904518\n",
       "</div>"
      ]
     },
     "metadata": {
      "application/vnd.databricks.v1+output": {
       "addedWidgets": {},
       "arguments": {},
       "data": "<div class=\"ansiout\">2904518\n</div>",
       "datasetInfos": [],
       "metadata": {
        "isDbfsCommandResult": false
       },
       "removedWidgets": [],
       "type": "html"
      }
     },
     "output_type": "display_data"
    }
   ],
   "source": [
    "%scala\n",
    "// part A\n",
    "{\n",
    "  import scala.io.Source\n",
    "\n",
    "  val lines: Iterator[String]  = Source.fromFile(\"/dbfs/mnt/storage/ad_hoc_MBW/aoc_2024/day1/input.txt\").getLines()\n",
    "  val ans = lines.map(_.split(\"   \").map(_.toInt)) //parse values\n",
    "                      .toArray //make array of arrays\n",
    "                      .transpose.map(_.sorted) //transpose and sort each col\n",
    "                      .transpose //go to original orientation\n",
    "                      .map({ case Array(x,y) => (x - y).abs}) // calc differences\n",
    "                      .sum\n",
    "  println(ans)//2904518\n",
    "}"
   ]
  },
  {
   "cell_type": "code",
   "execution_count": 0,
   "metadata": {
    "application/vnd.databricks.v1+cell": {
     "cellMetadata": {
      "byteLimit": 2048000,
      "rowLimit": 10000
     },
     "inputWidgets": {},
     "nuid": "5f07e0c6-f927-4472-a011-708ebc500c27",
     "showTitle": false,
     "tableResultSettingsMap": {},
     "title": ""
    }
   },
   "outputs": [
    {
     "output_type": "display_data",
     "data": {
      "text/html": [
       "<style scoped>\n",
       "  .ansiout {\n",
       "    display: block;\n",
       "    unicode-bidi: embed;\n",
       "    white-space: pre-wrap;\n",
       "    word-wrap: break-word;\n",
       "    word-break: break-all;\n",
       "    font-family: \"Menlo\", \"Monaco\", \"Consolas\", \"Ubuntu Mono\", \"Source Code Pro\", monospace;\n",
       "    font-size: 13px;\n",
       "    color: #555;\n",
       "    margin-left: 4px;\n",
       "    line-height: 19px;\n",
       "  }\n",
       "</style>\n",
       "<div class=\"ansiout\">18650129\n",
       "</div>"
      ]
     },
     "metadata": {
      "application/vnd.databricks.v1+output": {
       "addedWidgets": {},
       "arguments": {},
       "data": "<div class=\"ansiout\">18650129\n</div>",
       "datasetInfos": [],
       "metadata": {
        "isDbfsCommandResult": false
       },
       "removedWidgets": [],
       "type": "html"
      }
     },
     "output_type": "display_data"
    }
   ],
   "source": [
    "%scala\n",
    "// part B\n",
    "{\n",
    "  import scala.io.Source\n",
    "\n",
    "  val lines: Iterator[String]  = Source.fromFile(\"/dbfs/mnt/storage/ad_hoc_MBW/aoc_2024/day1/input.txt\").getLines()\n",
    "  val cols = lines.map(_.split(\"   \").map(_.toInt)) //parse values\n",
    "                      .toArray //make array of arrays\n",
    "                      .transpose //columnswise\n",
    "\n",
    "  val rightcounts = cols(1).groupBy(identity).map(t => (t._1, t._2.length))\n",
    "\n",
    "  val ans = cols(0).map( x => x * (rightcounts getOrElse ( x, 0) )).sum\n",
    "  println(ans)\n",
    "}"
   ]
  },
  {
   "cell_type": "markdown",
   "metadata": {
    "application/vnd.databricks.v1+cell": {
     "cellMetadata": {},
     "inputWidgets": {},
     "nuid": "78436d02-7ecb-4648-a62a-cbb779aacfe6",
     "showTitle": false,
     "tableResultSettingsMap": {},
     "title": ""
    }
   },
   "source": [
    "## day 2"
   ]
  },
  {
   "cell_type": "code",
   "execution_count": 0,
   "metadata": {
    "application/vnd.databricks.v1+cell": {
     "cellMetadata": {
      "byteLimit": 2048000,
      "rowLimit": 10000
     },
     "inputWidgets": {},
     "nuid": "cae1e0fc-26e1-426a-adce-6a1928276859",
     "showTitle": false,
     "tableResultSettingsMap": {},
     "title": ""
    }
   },
   "outputs": [
    {
     "output_type": "display_data",
     "data": {
      "text/html": [
       "<style scoped>\n",
       "  .ansiout {\n",
       "    display: block;\n",
       "    unicode-bidi: embed;\n",
       "    white-space: pre-wrap;\n",
       "    word-wrap: break-word;\n",
       "    word-break: break-all;\n",
       "    font-family: \"Menlo\", \"Monaco\", \"Consolas\", \"Ubuntu Mono\", \"Source Code Pro\", monospace;\n",
       "    font-size: 13px;\n",
       "    color: #555;\n",
       "    margin-left: 4px;\n",
       "    line-height: 19px;\n",
       "  }\n",
       "</style>\n",
       "<div class=\"ansiout\">564\n",
       "</div>"
      ]
     },
     "metadata": {
      "application/vnd.databricks.v1+output": {
       "addedWidgets": {},
       "arguments": {},
       "data": "<div class=\"ansiout\">564\n</div>",
       "datasetInfos": [],
       "metadata": {
        "isDbfsCommandResult": false
       },
       "removedWidgets": [],
       "type": "html"
      }
     },
     "output_type": "display_data"
    }
   ],
   "source": [
    "%scala\n",
    "{\n",
    "  import scala.io.Source\n",
    "\n",
    "  val lines: Iterator[String]  = Source.fromFile(\"/dbfs/mnt/storage/ad_hoc_MBW/aoc_2024/day2/input.txt\").getLines()\n",
    "  val cols:  Array[Array[Int]]= lines.map(_.split(\" \").map(_.toInt)) //parse values\n",
    "                      .toArray //make array of arrays\n",
    "\n",
    "  def hasUniformDeltaSign(arr :Array[Int]): Boolean = {\n",
    "    val  n = arr.length\n",
    "    (arr.slice(0,n-1) zip arr.slice(1,n))\n",
    "         .map({ case (x,y) => (x - y).signum})\n",
    "         .toSet.toList.length == 1}\n",
    "\n",
    "  def hasValidIncrements(arr : Array[Int]): Boolean = {\n",
    "    val  n = arr.length\n",
    "    (arr.slice(0,n-1) zip arr.slice(1,n))\n",
    "         .map({ case (x,y) => (x - y).abs})\n",
    "         .map(x => (x > 0) &&\t(x < 4) )\n",
    "         .reduce(_&&_) }\n",
    "\n",
    "  def isValid(arr: Array[Int]): Boolean =  hasValidIncrements(arr) && hasUniformDeltaSign(arr)\n",
    "\n",
    "  println(cols.filter(isValid).length)\n",
    "}"
   ]
  },
  {
   "cell_type": "code",
   "execution_count": 0,
   "metadata": {
    "application/vnd.databricks.v1+cell": {
     "cellMetadata": {
      "byteLimit": 2048000,
      "rowLimit": 10000
     },
     "inputWidgets": {},
     "nuid": "4d790fa8-3cfb-498b-92b2-1f3d656f9d08",
     "showTitle": false,
     "tableResultSettingsMap": {},
     "title": ""
    }
   },
   "outputs": [
    {
     "output_type": "display_data",
     "data": {
      "text/html": [
       "<style scoped>\n",
       "  .ansiout {\n",
       "    display: block;\n",
       "    unicode-bidi: embed;\n",
       "    white-space: pre-wrap;\n",
       "    word-wrap: break-word;\n",
       "    word-break: break-all;\n",
       "    font-family: \"Menlo\", \"Monaco\", \"Consolas\", \"Ubuntu Mono\", \"Source Code Pro\", monospace;\n",
       "    font-size: 13px;\n",
       "    color: #555;\n",
       "    margin-left: 4px;\n",
       "    line-height: 19px;\n",
       "  }\n",
       "</style>\n",
       "<div class=\"ansiout\">604\n",
       "</div>"
      ]
     },
     "metadata": {
      "application/vnd.databricks.v1+output": {
       "addedWidgets": {},
       "arguments": {},
       "data": "<div class=\"ansiout\">604\n</div>",
       "datasetInfos": [],
       "metadata": {
        "isDbfsCommandResult": false
       },
       "removedWidgets": [],
       "type": "html"
      }
     },
     "output_type": "display_data"
    }
   ],
   "source": [
    "%scala\n",
    "{\n",
    "  import scala.io.Source\n",
    "\n",
    "  val lines: Iterator[String]  = Source.fromFile(\"/dbfs/mnt/storage/ad_hoc_MBW/aoc_2024/day2/input.txt\").getLines()\n",
    "  val cols:  Array[Array[Int]]= lines.map(_.split(\" \").map(_.toInt)) //parse values\n",
    "                      .toArray //make array of arrays\n",
    "\n",
    "  def hasUniformDeltaSign(arr :Array[Int]): Boolean = {\n",
    "    val  n = arr.length\n",
    "    (arr.slice(0,n-1) zip arr.slice(1,n))\n",
    "         .map({ case (x,y) => (x - y).signum})\n",
    "         .toSet.toList.length == 1}\n",
    "\n",
    "  def hasValidIncrements(arr : Array[Int]): Boolean = {\n",
    "    val  n = arr.length\n",
    "    (arr.slice(0,n-1) zip arr.slice(1,n))\n",
    "         .map({ case (x,y) => (x - y).abs})\n",
    "         .map(x => (x > 0) &&\t(x < 4) )\n",
    "         .reduce(_&&_) }\n",
    "\n",
    "  def isValid(arr: Array[Int]): Boolean =  hasValidIncrements(arr) && hasUniformDeltaSign(arr)\n",
    "\n",
    "  def getVariants(arr: Array[Int]) : Array[Array[Int]] = {\n",
    "    val  n = arr.length\n",
    "    (Range(0,n).map(arr.patch(_, Nil, 1)).toArray :+ arr)\n",
    "    \n",
    "  }\n",
    "\n",
    "  println(cols.filter( x => getVariants(x).exists((isValid))).length)\n",
    "}"
   ]
  }
 ],
 "metadata": {
  "application/vnd.databricks.v1+notebook": {
   "dashboards": [],
   "environmentMetadata": {
    "base_environment": "",
    "client": "1"
   },
   "language": "python",
   "notebookMetadata": {
    "pythonIndentUnit": 2
   },
   "notebookName": "aoc_2024_scala",
   "widgets": {}
  },
  "language_info": {
   "name": "python"
  }
 },
 "nbformat": 4,
 "nbformat_minor": 0
}